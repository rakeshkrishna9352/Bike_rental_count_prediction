{
 "cells": [
  {
   "cell_type": "code",
   "execution_count": 1,
   "id": "c8b8a6fb",
   "metadata": {},
   "outputs": [],
   "source": [
    "import warnings\n",
    "warnings.filterwarnings(\"ignore\")"
   ]
  },
  {
   "cell_type": "markdown",
   "id": "b5074383",
   "metadata": {},
   "source": [
    "### Importing required libraries"
   ]
  },
  {
   "cell_type": "code",
   "execution_count": 2,
   "id": "b5db64e0",
   "metadata": {},
   "outputs": [],
   "source": [
    "import numpy as np\n",
    "import pandas as pd\n",
    "import matplotlib.pyplot as plt\n",
    "import seaborn as sns\n",
    "%matplotlib inline"
   ]
  },
  {
   "cell_type": "markdown",
   "id": "79c0957c",
   "metadata": {},
   "source": [
    "### Dataset inspection"
   ]
  },
  {
   "cell_type": "code",
   "execution_count": 3,
   "id": "253c80b6",
   "metadata": {},
   "outputs": [
    {
     "data": {
      "text/html": [
       "<div>\n",
       "<style scoped>\n",
       "    .dataframe tbody tr th:only-of-type {\n",
       "        vertical-align: middle;\n",
       "    }\n",
       "\n",
       "    .dataframe tbody tr th {\n",
       "        vertical-align: top;\n",
       "    }\n",
       "\n",
       "    .dataframe thead th {\n",
       "        text-align: right;\n",
       "    }\n",
       "</style>\n",
       "<table border=\"1\" class=\"dataframe\">\n",
       "  <thead>\n",
       "    <tr style=\"text-align: right;\">\n",
       "      <th></th>\n",
       "      <th>instant</th>\n",
       "      <th>dteday</th>\n",
       "      <th>season</th>\n",
       "      <th>yr</th>\n",
       "      <th>mnth</th>\n",
       "      <th>holiday</th>\n",
       "      <th>weekday</th>\n",
       "      <th>workingday</th>\n",
       "      <th>weathersit</th>\n",
       "      <th>temp</th>\n",
       "      <th>atemp</th>\n",
       "      <th>hum</th>\n",
       "      <th>windspeed</th>\n",
       "      <th>casual</th>\n",
       "      <th>registered</th>\n",
       "      <th>cnt</th>\n",
       "    </tr>\n",
       "  </thead>\n",
       "  <tbody>\n",
       "    <tr>\n",
       "      <th>0</th>\n",
       "      <td>1</td>\n",
       "      <td>2011-01-01</td>\n",
       "      <td>1</td>\n",
       "      <td>0</td>\n",
       "      <td>1</td>\n",
       "      <td>0</td>\n",
       "      <td>6</td>\n",
       "      <td>0</td>\n",
       "      <td>2</td>\n",
       "      <td>0.344167</td>\n",
       "      <td>0.363625</td>\n",
       "      <td>0.805833</td>\n",
       "      <td>0.160446</td>\n",
       "      <td>331</td>\n",
       "      <td>654</td>\n",
       "      <td>985</td>\n",
       "    </tr>\n",
       "    <tr>\n",
       "      <th>1</th>\n",
       "      <td>2</td>\n",
       "      <td>2011-01-02</td>\n",
       "      <td>1</td>\n",
       "      <td>0</td>\n",
       "      <td>1</td>\n",
       "      <td>0</td>\n",
       "      <td>0</td>\n",
       "      <td>0</td>\n",
       "      <td>2</td>\n",
       "      <td>0.363478</td>\n",
       "      <td>0.353739</td>\n",
       "      <td>0.696087</td>\n",
       "      <td>0.248539</td>\n",
       "      <td>131</td>\n",
       "      <td>670</td>\n",
       "      <td>801</td>\n",
       "    </tr>\n",
       "    <tr>\n",
       "      <th>2</th>\n",
       "      <td>3</td>\n",
       "      <td>2011-01-03</td>\n",
       "      <td>1</td>\n",
       "      <td>0</td>\n",
       "      <td>1</td>\n",
       "      <td>0</td>\n",
       "      <td>1</td>\n",
       "      <td>1</td>\n",
       "      <td>1</td>\n",
       "      <td>0.196364</td>\n",
       "      <td>0.189405</td>\n",
       "      <td>0.437273</td>\n",
       "      <td>0.248309</td>\n",
       "      <td>120</td>\n",
       "      <td>1229</td>\n",
       "      <td>1349</td>\n",
       "    </tr>\n",
       "    <tr>\n",
       "      <th>3</th>\n",
       "      <td>4</td>\n",
       "      <td>2011-01-04</td>\n",
       "      <td>1</td>\n",
       "      <td>0</td>\n",
       "      <td>1</td>\n",
       "      <td>0</td>\n",
       "      <td>2</td>\n",
       "      <td>1</td>\n",
       "      <td>1</td>\n",
       "      <td>0.200000</td>\n",
       "      <td>0.212122</td>\n",
       "      <td>0.590435</td>\n",
       "      <td>0.160296</td>\n",
       "      <td>108</td>\n",
       "      <td>1454</td>\n",
       "      <td>1562</td>\n",
       "    </tr>\n",
       "    <tr>\n",
       "      <th>4</th>\n",
       "      <td>5</td>\n",
       "      <td>2011-01-05</td>\n",
       "      <td>1</td>\n",
       "      <td>0</td>\n",
       "      <td>1</td>\n",
       "      <td>0</td>\n",
       "      <td>3</td>\n",
       "      <td>1</td>\n",
       "      <td>1</td>\n",
       "      <td>0.226957</td>\n",
       "      <td>0.229270</td>\n",
       "      <td>0.436957</td>\n",
       "      <td>0.186900</td>\n",
       "      <td>82</td>\n",
       "      <td>1518</td>\n",
       "      <td>1600</td>\n",
       "    </tr>\n",
       "  </tbody>\n",
       "</table>\n",
       "</div>"
      ],
      "text/plain": [
       "   instant      dteday  season  yr  mnth  holiday  weekday  workingday  \\\n",
       "0        1  2011-01-01       1   0     1        0        6           0   \n",
       "1        2  2011-01-02       1   0     1        0        0           0   \n",
       "2        3  2011-01-03       1   0     1        0        1           1   \n",
       "3        4  2011-01-04       1   0     1        0        2           1   \n",
       "4        5  2011-01-05       1   0     1        0        3           1   \n",
       "\n",
       "   weathersit      temp     atemp       hum  windspeed  casual  registered  \\\n",
       "0           2  0.344167  0.363625  0.805833   0.160446     331         654   \n",
       "1           2  0.363478  0.353739  0.696087   0.248539     131         670   \n",
       "2           1  0.196364  0.189405  0.437273   0.248309     120        1229   \n",
       "3           1  0.200000  0.212122  0.590435   0.160296     108        1454   \n",
       "4           1  0.226957  0.229270  0.436957   0.186900      82        1518   \n",
       "\n",
       "    cnt  \n",
       "0   985  \n",
       "1   801  \n",
       "2  1349  \n",
       "3  1562  \n",
       "4  1600  "
      ]
     },
     "execution_count": 3,
     "metadata": {},
     "output_type": "execute_result"
    }
   ],
   "source": [
    "rental_df = pd.read_csv(\"day.csv\")\n",
    "rental_df.head()"
   ]
  },
  {
   "cell_type": "code",
   "execution_count": 4,
   "id": "5db9fb4c",
   "metadata": {},
   "outputs": [
    {
     "data": {
      "text/plain": [
       "(731, 16)"
      ]
     },
     "execution_count": 4,
     "metadata": {},
     "output_type": "execute_result"
    }
   ],
   "source": [
    "rental_df.shape"
   ]
  },
  {
   "cell_type": "code",
   "execution_count": 5,
   "id": "5c2575ab",
   "metadata": {},
   "outputs": [
    {
     "data": {
      "text/plain": [
       "Index(['instant', 'dteday', 'season', 'yr', 'mnth', 'holiday', 'weekday',\n",
       "       'workingday', 'weathersit', 'temp', 'atemp', 'hum', 'windspeed',\n",
       "       'casual', 'registered', 'cnt'],\n",
       "      dtype='object')"
      ]
     },
     "execution_count": 5,
     "metadata": {},
     "output_type": "execute_result"
    }
   ],
   "source": [
    "rental_df.columns"
   ]
  },
  {
   "cell_type": "code",
   "execution_count": 6,
   "id": "5c2f627b",
   "metadata": {},
   "outputs": [
    {
     "name": "stdout",
     "output_type": "stream",
     "text": [
      "<class 'pandas.core.frame.DataFrame'>\n",
      "RangeIndex: 731 entries, 0 to 730\n",
      "Data columns (total 16 columns):\n",
      " #   Column      Non-Null Count  Dtype  \n",
      "---  ------      --------------  -----  \n",
      " 0   instant     731 non-null    int64  \n",
      " 1   dteday      731 non-null    object \n",
      " 2   season      731 non-null    int64  \n",
      " 3   yr          731 non-null    int64  \n",
      " 4   mnth        731 non-null    int64  \n",
      " 5   holiday     731 non-null    int64  \n",
      " 6   weekday     731 non-null    int64  \n",
      " 7   workingday  731 non-null    int64  \n",
      " 8   weathersit  731 non-null    int64  \n",
      " 9   temp        731 non-null    float64\n",
      " 10  atemp       731 non-null    float64\n",
      " 11  hum         731 non-null    float64\n",
      " 12  windspeed   731 non-null    float64\n",
      " 13  casual      731 non-null    int64  \n",
      " 14  registered  731 non-null    int64  \n",
      " 15  cnt         731 non-null    int64  \n",
      "dtypes: float64(4), int64(11), object(1)\n",
      "memory usage: 91.5+ KB\n"
     ]
    }
   ],
   "source": [
    "rental_df.info()"
   ]
  },
  {
   "cell_type": "markdown",
   "id": "7594a436",
   "metadata": {},
   "source": [
    "### Data Cleaning or Pre-processing"
   ]
  },
  {
   "cell_type": "markdown",
   "id": "ca56156c",
   "metadata": {},
   "source": [
    "- There are no null values in the dataset"
   ]
  },
  {
   "cell_type": "code",
   "execution_count": 7,
   "id": "3fb1c069",
   "metadata": {},
   "outputs": [
    {
     "data": {
      "text/plain": [
       "instant       0\n",
       "dteday        0\n",
       "season        0\n",
       "yr            0\n",
       "mnth          0\n",
       "holiday       0\n",
       "weekday       0\n",
       "workingday    0\n",
       "weathersit    0\n",
       "temp          0\n",
       "atemp         0\n",
       "hum           0\n",
       "windspeed     0\n",
       "casual        0\n",
       "registered    0\n",
       "cnt           0\n",
       "dtype: int64"
      ]
     },
     "execution_count": 7,
     "metadata": {},
     "output_type": "execute_result"
    }
   ],
   "source": [
    "rental_df.isnull().sum()"
   ]
  },
  {
   "cell_type": "markdown",
   "id": "0082b7ee",
   "metadata": {},
   "source": [
    "- Column names seem as bit confusing. Hence we change the column names for redability"
   ]
  },
  {
   "cell_type": "code",
   "execution_count": 8,
   "id": "9d6b170e",
   "metadata": {},
   "outputs": [
    {
     "data": {
      "text/plain": [
       "Index(['instant', 'date', 'season', 'year', 'month', 'holiday', 'weekday',\n",
       "       'workingday', 'weather_code', 'temp', 'feelslike_temp', 'humidity',\n",
       "       'windspeed', 'casual', 'registered', 'demand'],\n",
       "      dtype='object')"
      ]
     },
     "execution_count": 8,
     "metadata": {},
     "output_type": "execute_result"
    }
   ],
   "source": [
    "rental_df.rename(columns= {\"dteday\": \"date\",\n",
    "                            \"yr\": \"year\",\n",
    "                            \"mnth\": \"month\",\n",
    "                            \"weathersit\": \"weather_code\",\n",
    "                            \"atemp\" : \"feelslike_temp\",\n",
    "                            \"hum\": \"humidity\",\n",
    "                            \"cnt\": \"demand\"}, inplace= True)\n",
    "rental_df.columns"
   ]
  },
  {
   "cell_type": "markdown",
   "id": "084ec5d8",
   "metadata": {},
   "source": [
    "- We can delete a few columns\n",
    "    1. instant\n",
    "    2. casual\n",
    "    3. registered"
   ]
  },
  {
   "cell_type": "code",
   "execution_count": 9,
   "id": "d233a12d",
   "metadata": {},
   "outputs": [],
   "source": [
    "rental_df.drop([\"date\", \"instant\", \"casual\", \"registered\"], axis= 1, inplace= True)"
   ]
  },
  {
   "cell_type": "markdown",
   "id": "3ee2f623",
   "metadata": {},
   "source": [
    "### Map Values in Columns"
   ]
  },
  {
   "cell_type": "markdown",
   "id": "4afbd4ae",
   "metadata": {},
   "source": [
    "\n",
    "- Season {1: spring, 2: summer, 3: fall, 4: winter}\n",
    "- Year {0: 2011, 1: 2012}"
   ]
  },
  {
   "cell_type": "code",
   "execution_count": 10,
   "id": "4574368b",
   "metadata": {},
   "outputs": [],
   "source": [
    "rental_df.season.replace({1: \"spring\", 2: \"summer\", 3: \"fall\", 4: \"winter\"}, inplace= True)\n",
    "rental_df.year.replace({0: \"2011\", 1: \"2012\"},inplace= True)"
   ]
  },
  {
   "cell_type": "markdown",
   "id": "95d5c5f4",
   "metadata": {},
   "source": [
    "- Changing the data type of Weather Code to render it as categorical feature"
   ]
  },
  {
   "cell_type": "code",
   "execution_count": 11,
   "id": "56fa86f0",
   "metadata": {},
   "outputs": [],
   "source": [
    "rental_df.weather_code = rental_df.weather_code.astype(str)"
   ]
  },
  {
   "cell_type": "markdown",
   "id": "d94c599a",
   "metadata": {},
   "source": [
    "### Data Visualisation"
   ]
  },
  {
   "cell_type": "code",
   "execution_count": 12,
   "id": "fd99432e",
   "metadata": {},
   "outputs": [
    {
     "data": {
      "image/png": "[encoded data removed]",
      "text/plain": [
       "<Figure size 864x360 with 2 Axes>"
      ]
     },
     "metadata": {
      "needs_background": "light"
     },
     "output_type": "display_data"
    }
   ],
   "source": [
    "plt.figure(figsize= [12,5])\n",
    "plt.subplot(1,2,1)\n",
    "sns.barplot(data= rental_df, x= \"season\", y= \"demand\")\n",
    "plt.subplot(1,2,2)\n",
    "sns.boxplot(data= rental_df, x= \"season\", y= \"demand\")\n",
    "plt.show()"
   ]
  },
  {
   "cell_type": "code",
   "execution_count": 13,
   "id": "392133ce",
   "metadata": {},
   "outputs": [
    {
     "data": {
      "image/png": "[encoded data removed]",
      "text/plain": [
       "<Figure size 864x360 with 2 Axes>"
      ]
     },
     "metadata": {
      "needs_background": "light"
     },
     "output_type": "display_data"
    }
   ],
   "source": [
    "plt.figure(figsize= [12,5])\n",
    "plt.subplot(1,2,1)\n",
    "sns.barplot(data= rental_df, x= \"year\", y= \"demand\")\n",
    "plt.subplot(1,2,2)\n",
    "sns.boxplot(data= rental_df, x= \"year\", y= \"demand\")\n",
    "plt.show()"
   ]
  },
  {
   "cell_type": "code",
   "execution_count": 14,
   "id": "1675a7be",
   "metadata": {
    "scrolled": true
   },
   "outputs": [
    {
     "data": {
      "image/png": "[encoded data removed]",
      "text/plain": [
       "<Figure size 864x360 with 1 Axes>"
      ]
     },
     "metadata": {
      "needs_background": "light"
     },
     "output_type": "display_data"
    }
   ],
   "source": [
    "plt.figure(figsize= [12,5])\n",
    "sns.barplot(data= rental_df, x= \"weekday\", y= \"demand\")\n",
    "plt.xticks(ticks= [0, 1,2,3,4,5,6],labels= [\"Sunday\", \"Monday\", \"Tuesday\", \"Wednesday\", \"Thursday\", \"Friday\", \"Saturday\"])\n",
    "plt.xlabel(\"Week Day\", fontdict= {\"size\": 12})\n",
    "plt.ylabel(\"Demand\", fontdict= {\"size\": 12})\n",
    "plt.show()"
   ]
  },
  {
   "cell_type": "code",
   "execution_count": 15,
   "id": "8ea6b00e",
   "metadata": {},
   "outputs": [
    {
     "data": {
      "image/png": "[encoded data removed]",
      "text/plain": [
       "<Figure size 864x360 with 1 Axes>"
      ]
     },
     "metadata": {
      "needs_background": "light"
     },
     "output_type": "display_data"
    }
   ],
   "source": [
    "    plt.figure(figsize= [12,5])\n",
    "    sns.barplot(data= rental_df, x= \"month\", y= \"demand\", hue= \"year\")\n",
    "    plt.title(\"Month vs Demand\")\n",
    "    plt.show()"
   ]
  },
  {
   "cell_type": "code",
   "execution_count": 16,
   "id": "95e962f9",
   "metadata": {},
   "outputs": [
    {
     "data": {
      "image/png": "[encoded data removed]",
      "text/plain": [
       "<Figure size 864x360 with 1 Axes>"
      ]
     },
     "metadata": {
      "needs_background": "light"
     },
     "output_type": "display_data"
    }
   ],
   "source": [
    "plt.figure(figsize= [12,5])\n",
    "sns.boxplot(data= rental_df, x= \"month\", y= \"demand\", hue= \"year\")\n",
    "plt.title(\"Month vs Demand\")\n",
    "plt.show()"
   ]
  },
  {
   "cell_type": "code",
   "execution_count": 17,
   "id": "8c1d1ccd",
   "metadata": {},
   "outputs": [
    {
     "data": {
      "image/png": "[encoded data removed]",
      "text/plain": [
       "<Figure size 432x288 with 1 Axes>"
      ]
     },
     "metadata": {
      "needs_background": "light"
     },
     "output_type": "display_data"
    }
   ],
   "source": [
    "sns.barplot(data= rental_df, x= \"weather_code\", y= \"demand\", errwidth= 0)\n",
    "plt.show()"
   ]
  },
  {
   "cell_type": "markdown",
   "id": "25dd0fdf",
   "metadata": {},
   "source": [
    "- Weather Code\n",
    "    - [1] Clear, Few clouds, Partly cloudy, Partly cloudy\n",
    "    - [2] Mist + Cloudy, Mist + Broken clouds, Mist + Few clouds, Mist\n",
    "    - [3] Light Snow, Light Rain + Thunderstorm + Scattered clouds, Light Rain + Scattered clouds"
   ]
  },
  {
   "cell_type": "code",
   "execution_count": 18,
   "id": "1658aa40",
   "metadata": {},
   "outputs": [
    {
     "data": {
      "image/png": "[encoded data removed]",
      "text/plain": [
       "<Figure size 432x288 with 2 Axes>"
      ]
     },
     "metadata": {
      "needs_background": "light"
     },
     "output_type": "display_data"
    }
   ],
   "source": [
    "correlation_matrix = rental_df[[\"temp\",\"feelslike_temp\",\"humidity\",\"windspeed\",\"demand\"]].corr()\n",
    "correlation_matrix = correlation_matrix.loc[:\"windspeed\", [\"demand\"]]\n",
    "sns.heatmap(correlation_matrix, annot= True, center= 0.2, square= True)\n",
    "plt.title(\"Correlation between Numerical features and Demand\")\n",
    "plt.show()"
   ]
  },
  {
   "cell_type": "markdown",
   "id": "7a39e80b",
   "metadata": {},
   "source": [
    "### Dealing with categorical features"
   ]
  },
  {
   "cell_type": "code",
   "execution_count": 19,
   "id": "2ebe66e4",
   "metadata": {},
   "outputs": [
    {
     "data": {
      "text/html": [
       "<div>\n",
       "<style scoped>\n",
       "    .dataframe tbody tr th:only-of-type {\n",
       "        vertical-align: middle;\n",
       "    }\n",
       "\n",
       "    .dataframe tbody tr th {\n",
       "        vertical-align: top;\n",
       "    }\n",
       "\n",
       "    .dataframe thead th {\n",
       "        text-align: right;\n",
       "    }\n",
       "</style>\n",
       "<table border=\"1\" class=\"dataframe\">\n",
       "  <thead>\n",
       "    <tr style=\"text-align: right;\">\n",
       "      <th></th>\n",
       "      <th>month</th>\n",
       "      <th>holiday</th>\n",
       "      <th>weekday</th>\n",
       "      <th>workingday</th>\n",
       "      <th>temp</th>\n",
       "      <th>feelslike_temp</th>\n",
       "      <th>humidity</th>\n",
       "      <th>windspeed</th>\n",
       "      <th>demand</th>\n",
       "      <th>season_spring</th>\n",
       "      <th>season_summer</th>\n",
       "      <th>season_winter</th>\n",
       "      <th>year_2012</th>\n",
       "      <th>weather_code_2</th>\n",
       "      <th>weather_code_3</th>\n",
       "    </tr>\n",
       "  </thead>\n",
       "  <tbody>\n",
       "    <tr>\n",
       "      <th>0</th>\n",
       "      <td>1</td>\n",
       "      <td>0</td>\n",
       "      <td>6</td>\n",
       "      <td>0</td>\n",
       "      <td>0.344167</td>\n",
       "      <td>0.363625</td>\n",
       "      <td>0.805833</td>\n",
       "      <td>0.160446</td>\n",
       "      <td>985</td>\n",
       "      <td>1</td>\n",
       "      <td>0</td>\n",
       "      <td>0</td>\n",
       "      <td>0</td>\n",
       "      <td>1</td>\n",
       "      <td>0</td>\n",
       "    </tr>\n",
       "    <tr>\n",
       "      <th>1</th>\n",
       "      <td>1</td>\n",
       "      <td>0</td>\n",
       "      <td>0</td>\n",
       "      <td>0</td>\n",
       "      <td>0.363478</td>\n",
       "      <td>0.353739</td>\n",
       "      <td>0.696087</td>\n",
       "      <td>0.248539</td>\n",
       "      <td>801</td>\n",
       "      <td>1</td>\n",
       "      <td>0</td>\n",
       "      <td>0</td>\n",
       "      <td>0</td>\n",
       "      <td>1</td>\n",
       "      <td>0</td>\n",
       "    </tr>\n",
       "    <tr>\n",
       "      <th>2</th>\n",
       "      <td>1</td>\n",
       "      <td>0</td>\n",
       "      <td>1</td>\n",
       "      <td>1</td>\n",
       "      <td>0.196364</td>\n",
       "      <td>0.189405</td>\n",
       "      <td>0.437273</td>\n",
       "      <td>0.248309</td>\n",
       "      <td>1349</td>\n",
       "      <td>1</td>\n",
       "      <td>0</td>\n",
       "      <td>0</td>\n",
       "      <td>0</td>\n",
       "      <td>0</td>\n",
       "      <td>0</td>\n",
       "    </tr>\n",
       "    <tr>\n",
       "      <th>3</th>\n",
       "      <td>1</td>\n",
       "      <td>0</td>\n",
       "      <td>2</td>\n",
       "      <td>1</td>\n",
       "      <td>0.200000</td>\n",
       "      <td>0.212122</td>\n",
       "      <td>0.590435</td>\n",
       "      <td>0.160296</td>\n",
       "      <td>1562</td>\n",
       "      <td>1</td>\n",
       "      <td>0</td>\n",
       "      <td>0</td>\n",
       "      <td>0</td>\n",
       "      <td>0</td>\n",
       "      <td>0</td>\n",
       "    </tr>\n",
       "    <tr>\n",
       "      <th>4</th>\n",
       "      <td>1</td>\n",
       "      <td>0</td>\n",
       "      <td>3</td>\n",
       "      <td>1</td>\n",
       "      <td>0.226957</td>\n",
       "      <td>0.229270</td>\n",
       "      <td>0.436957</td>\n",
       "      <td>0.186900</td>\n",
       "      <td>1600</td>\n",
       "      <td>1</td>\n",
       "      <td>0</td>\n",
       "      <td>0</td>\n",
       "      <td>0</td>\n",
       "      <td>0</td>\n",
       "      <td>0</td>\n",
       "    </tr>\n",
       "  </tbody>\n",
       "</table>\n",
       "</div>"
      ],
      "text/plain": [
       "   month  holiday  weekday  workingday      temp  feelslike_temp  humidity  \\\n",
       "0      1        0        6           0  0.344167        0.363625  0.805833   \n",
       "1      1        0        0           0  0.363478        0.353739  0.696087   \n",
       "2      1        0        1           1  0.196364        0.189405  0.437273   \n",
       "3      1        0        2           1  0.200000        0.212122  0.590435   \n",
       "4      1        0        3           1  0.226957        0.229270  0.436957   \n",
       "\n",
       "   windspeed  demand  season_spring  season_summer  season_winter  year_2012  \\\n",
       "0   0.160446     985              1              0              0          0   \n",
       "1   0.248539     801              1              0              0          0   \n",
       "2   0.248309    1349              1              0              0          0   \n",
       "3   0.160296    1562              1              0              0          0   \n",
       "4   0.186900    1600              1              0              0          0   \n",
       "\n",
       "   weather_code_2  weather_code_3  \n",
       "0               1               0  \n",
       "1               1               0  \n",
       "2               0               0  \n",
       "3               0               0  \n",
       "4               0               0  "
      ]
     },
     "execution_count": 19,
     "metadata": {},
     "output_type": "execute_result"
    }
   ],
   "source": [
    "season = pd.get_dummies(data= rental_df[\"season\"], drop_first= True, prefix= \"season\")\n",
    "year = pd.get_dummies(data= rental_df[\"year\"], drop_first= True, prefix= \"year\")\n",
    "weather = pd.get_dummies(data= rental_df[\"weather_code\"], drop_first= True, prefix= \"weather_code\")\n",
    "rental_final = pd.concat([rental_df, season, year, weather], axis= 1)\n",
    "rental_final.drop([\"season\", \"year\", \"weather_code\"], axis= 1, inplace= True)\n",
    "rental_final.head()"
   ]
  },
  {
   "cell_type": "markdown",
   "id": "ce545596",
   "metadata": {},
   "source": [
    "### Separate feature dataframe and label dataframe"
   ]
  },
  {
   "cell_type": "code",
   "execution_count": 20,
   "id": "689ab858",
   "metadata": {},
   "outputs": [],
   "source": [
    "y = rental_final[[\"demand\"]]\n",
    "X = rental_final.drop(\"demand\", axis= 1)"
   ]
  },
  {
   "cell_type": "markdown",
   "id": "59a7d3fb",
   "metadata": {},
   "source": [
    "### Split data into train and test set"
   ]
  },
  {
   "cell_type": "code",
   "execution_count": 21,
   "id": "2a52aea5",
   "metadata": {},
   "outputs": [],
   "source": [
    "from sklearn.model_selection import train_test_split\n",
    "x_train, x_test, y_train, y_test = train_test_split(X, y, train_size= 0.75, test_size= 0.25, random_state= True)"
   ]
  },
  {
   "cell_type": "markdown",
   "id": "f471335e",
   "metadata": {},
   "source": [
    "### Linear Regression"
   ]
  },
  {
   "cell_type": "code",
   "execution_count": 22,
   "id": "ea32a0db",
   "metadata": {},
   "outputs": [
    {
     "name": "stdout",
     "output_type": "stream",
     "text": [
      "Accuracy on Training set: 0.8213089686170182\n",
      "Accuracy on Test set    : 0.8340706580692383\n"
     ]
    }
   ],
   "source": [
    "from sklearn.linear_model import LinearRegression\n",
    "from sklearn import metrics\n",
    "lr_model = LinearRegression()\n",
    "lr_model.fit(x_train, y_train)\n",
    "y_pred = lr_model.predict(x_test)\n",
    "print(\"Accuracy on Training set:\", lr_model.score(x_train, y_train))\n",
    "print(\"Accuracy on Test set    :\",metrics.r2_score(y_test,y_pred))"
   ]
  },
  {
   "cell_type": "markdown",
   "id": "8a8c45ee",
   "metadata": {},
   "source": [
    "### Decision Tree"
   ]
  },
  {
   "cell_type": "code",
   "execution_count": 23,
   "id": "06bef5e2",
   "metadata": {},
   "outputs": [
    {
     "name": "stdout",
     "output_type": "stream",
     "text": [
      "Accuracy on Training set: 1.0\n",
      "Accuracy on Test set    : 0.8139124285442454\n"
     ]
    }
   ],
   "source": [
    "from sklearn.tree import DecisionTreeRegressor\n",
    "rf_model = DecisionTreeRegressor()\n",
    "rf_model.fit(x_train, y_train)\n",
    "y_pred = rf_model.predict(x_test)\n",
    "print(\"Accuracy on Training set:\", rf_model.score(x_train, y_train))\n",
    "print(\"Accuracy on Test set    :\", metrics.r2_score(y_test, y_pred))"
   ]
  },
  {
   "cell_type": "markdown",
   "id": "3d91868c",
   "metadata": {},
   "source": [
    "### Random Forest with Hyperparameter Tuning"
   ]
  },
  {
   "cell_type": "code",
   "execution_count": 24,
   "id": "2bd585a7",
   "metadata": {},
   "outputs": [],
   "source": [
    "from sklearn.model_selection import KFold\n",
    "from sklearn.model_selection import GridSearchCV\n",
    "from sklearn.ensemble import RandomForestRegressor"
   ]
  },
  {
   "cell_type": "code",
   "execution_count": 25,
   "id": "ba8ce66b",
   "metadata": {},
   "outputs": [],
   "source": [
    "parameters = {\"n_estimators\" : [25, 50, 100],\n",
    "              \"max_depth\": [11, None],\n",
    "              \"min_samples_leaf\": [2, 5, 7],\n",
    "              \"min_samples_split\": [5, 10, 15]}"
   ]
  },
  {
   "cell_type": "code",
   "execution_count": 26,
   "id": "0bd3fa3e",
   "metadata": {},
   "outputs": [],
   "source": [
    "rf_classifier = RandomForestRegressor(criterion= \"squared_error\", random_state= 0)"
   ]
  },
  {
   "cell_type": "code",
   "execution_count": 27,
   "id": "71aacc69",
   "metadata": {},
   "outputs": [
    {
     "data": {
      "text/plain": [
       "{'max_depth': None,\n",
       " 'min_samples_leaf': 2,\n",
       " 'min_samples_split': 5,\n",
       " 'n_estimators': 50}"
      ]
     },
     "execution_count": 27,
     "metadata": {},
     "output_type": "execute_result"
    }
   ],
   "source": [
    "grid_search = GridSearchCV(rf_classifier, parameters, cv= 5, return_train_score= True, n_jobs= -1)\n",
    "grid_search.fit(x_train, y_train)\n",
    "grid_search.best_params_"
   ]
  },
  {
   "cell_type": "code",
   "execution_count": 28,
   "id": "210d0790",
   "metadata": {},
   "outputs": [],
   "source": [
    "modelf = RandomForestRegressor(n_estimators= grid_search.best_params_[\"n_estimators\"],\n",
    "                                max_depth= grid_search.best_params_[\"max_depth\"],\n",
    "                                min_samples_leaf= grid_search.best_params_[\"min_samples_leaf\"],\n",
    "                                min_samples_split= grid_search.best_params_[\"min_samples_split\"])"
   ]
  },
  {
   "cell_type": "code",
   "execution_count": 29,
   "id": "51b3619c",
   "metadata": {},
   "outputs": [
    {
     "data": {
      "text/plain": [
       "RandomForestRegressor(min_samples_leaf=2, min_samples_split=5, n_estimators=50)"
      ]
     },
     "execution_count": 29,
     "metadata": {},
     "output_type": "execute_result"
    }
   ],
   "source": [
    "modelf.fit(x_train, y_train)"
   ]
  },
  {
   "cell_type": "code",
   "execution_count": 30,
   "id": "3cb7cf49",
   "metadata": {},
   "outputs": [
    {
     "name": "stdout",
     "output_type": "stream",
     "text": [
      "Accuracy on Training set: 0.9649500145154307\n",
      "Accuracy on Test set    : 0.8908881010294223\n"
     ]
    }
   ],
   "source": [
    "y_pred = modelf.predict(x_test)\n",
    "print(\"Accuracy on Training set:\", modelf.score(x_train, y_train))\n",
    "print(\"Accuracy on Test set    :\", metrics.r2_score(y_test.values, y_pred))"
   ]
  },
  {
   "cell_type": "markdown",
   "id": "139213a3",
   "metadata": {},
   "source": [
    "### Error for the Final Model"
   ]
  },
  {
   "cell_type": "code",
   "execution_count": 31,
   "id": "66a9b95c",
   "metadata": {},
   "outputs": [
    {
     "name": "stdout",
     "output_type": "stream",
     "text": [
      "Mean Absolute Error     : 448.9412108865632\n",
      "Mean Squared Error      : 427807.6204973528\n",
      "Root Mean Squared Error : 654.0700425010709\n",
      "R squared Error         : 0.8908881010294223\n"
     ]
    }
   ],
   "source": [
    "print(\"Mean Absolute Error     :\", metrics.mean_absolute_error(y_test, y_pred))\n",
    "print(\"Mean Squared Error      :\", metrics.mean_squared_error(y_test, y_pred))\n",
    "print(\"Root Mean Squared Error :\", np.sqrt(metrics.mean_squared_error(y_test, y_pred)))\n",
    "print(\"R squared Error         :\", metrics.r2_score(y_test, y_pred))"
   ]
  },
  {
   "cell_type": "code",
   "execution_count": 32,
   "id": "623f8d91",
   "metadata": {},
   "outputs": [
    {
     "data": {
      "image/png": "[encoded data removed]",
      "text/plain": [
       "<Figure size 432x288 with 1 Axes>"
      ]
     },
     "metadata": {
      "needs_background": "light"
     },
     "output_type": "display_data"
    }
   ],
   "source": [
    "plt.scatter(y_test['demand'].values, y_pred, marker= '.')\n",
    "plt.plot([1000,9000], [1000,9000], color= 'r')\n",
    "plt.yticks(ticks= [2000, 4000, 6000, 8000])\n",
    "plt.title(\"Actual vs Predicted Demand\")\n",
    "plt.xlabel(\"Actual\")\n",
    "plt.ylabel(\"Predicted\")\n",
    "plt.show()"
   ]
  }
 ],
 "metadata": {
  "kernelspec": {
   "display_name": "Python 3 (ipykernel)",
   "language": "python",
   "name": "python3"
  },
  "language_info": {
   "codemirror_mode": {
    "name": "ipython",
    "version": 3
   },
   "file_extension": ".py",
   "mimetype": "text/x-python",
   "name": "python",
   "nbconvert_exporter": "python",
   "pygments_lexer": "ipython3",
   "version": "3.10.1"
  }
 },
 "nbformat": 4,
 "nbformat_minor": 5
}
